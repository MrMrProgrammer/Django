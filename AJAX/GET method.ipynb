{
 "cells": [
  {
   "cell_type": "markdown",
   "metadata": {},
   "source": [
    "## pay attentions !\n",
    "\n",
    "#### add this link on html page\n",
    "\n",
    "```HTML\n",
    "<script src=\"https://code.jquery.com/jquery-3.6.0.min.js\"></script>\n",
    "```"
   ]
  },
  {
   "cell_type": "code",
   "execution_count": null,
   "metadata": {},
   "outputs": [],
   "source": [
    "# ===========================================================\n",
    "\n",
    "\n",
    "\n",
    "# ===========================================================\n",
    "# index.html\n",
    "\n",
    "\n",
    "# <p id=\"data\"></p>\n",
    "# <button class=\"btn btn-success\" onclick=\"addDate()\" id=\"save-date-btn\">ثبت تاریخ</button>\n",
    "\n",
    "\n",
    "# ===========================================================\n",
    "# script.js\n",
    "\n",
    "\n",
    "function addDate() {\n",
    "\n",
    "    var data = document.getElementById(\"data\").value;\n",
    "\n",
    "    $.get('/order/add-data?data=' + data).then(res => {\n",
    "        console.log('ok');\n",
    "    });\n",
    "}\n",
    "\n",
    "\n",
    "# ===========================================================\n",
    "# views.py\n",
    "\n",
    "\n",
    "def getData(request):\n",
    "    data = request.GET.get('data')\n",
    "\n",
    "    return Response\n",
    "\n",
    "\n",
    "# ==========================================================="
   ]
  }
 ],
 "metadata": {
  "kernelspec": {
   "display_name": "Python 3",
   "language": "python",
   "name": "python3"
  },
  "language_info": {
   "codemirror_mode": {
    "name": "ipython",
    "version": 3
   },
   "file_extension": ".py",
   "mimetype": "text/x-python",
   "name": "python",
   "nbconvert_exporter": "python",
   "pygments_lexer": "ipython3",
   "version": "3.10.12"
  }
 },
 "nbformat": 4,
 "nbformat_minor": 2
}
